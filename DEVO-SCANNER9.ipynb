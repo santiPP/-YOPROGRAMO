{
  "nbformat": 4,
  "nbformat_minor": 0,
  "metadata": {
    "colab": {
      "provenance": [],
      "authorship_tag": "ABX9TyNF7A9Pl0T0a/yAZFeq5FAu",
      "include_colab_link": true
    },
    "kernelspec": {
      "name": "python3",
      "display_name": "Python 3"
    },
    "language_info": {
      "name": "python"
    }
  },
  "cells": [
    {
      "cell_type": "markdown",
      "metadata": {
        "id": "view-in-github",
        "colab_type": "text"
      },
      "source": [
        "<a href=\"https://colab.research.google.com/github/santiPP/-YOPROGRAMO/blob/main/DEVO-SCANNER9.ipynb\" target=\"_parent\"><img src=\"https://colab.research.google.com/assets/colab-badge.svg\" alt=\"Open In Colab\"/></a>"
      ]
    },
    {
      "cell_type": "code",
      "execution_count": null,
      "metadata": {
        "id": "Fuo-5tnRY6Gj"
      },
      "outputs": [],
      "source": [
        "import re\n",
        "import PyPDF2\n",
        "import os\n",
        "import textract\n",
        "import openpyxl\n",
        "import sqlite3\n",
        "\n",
        "def extract_text_from_pdf(pdf_path):\n",
        "    text = \"\"\n",
        "    with open(pdf_path, \"rb\") as pdf_file:\n",
        "        pdf_reader = PyPDF2.PdfReader(pdf_file)\n",
        "        for page in pdf_reader.pages:\n",
        "            text += page.extract_text()\n",
        "    return text\n",
        "\n",
        "def extract_text_from_txt(txt_path):\n",
        "    with open(txt_path, \"r\", encoding=\"utf-8\") as txt_file:\n",
        "        text = txt_file.read()\n",
        "    return text\n",
        "\n",
        "def extract_text_from_excel(excel_path):\n",
        "    text = \"\"\n",
        "    workbook = openpyxl.load_workbook(excel_path)\n",
        "    for sheet in workbook:\n",
        "        for row in sheet.iter_rows(values_only=True):\n",
        "            for cell_value in row:\n",
        "                if cell_value and isinstance(cell_value, str):\n",
        "                    text += cell_value + \"\\n\"\n",
        "    return text\n",
        "\n",
        "def extract_text_from_database(db_path, table_name):\n",
        "    conn = sqlite3.connect(db_path)\n",
        "    cursor = conn.cursor()\n",
        "    cursor.execute(f\"SELECT * FROM {table_name}\")\n",
        "    rows = cursor.fetchall()\n",
        "    text = \"\"\n",
        "    for row in rows:\n",
        "        text += \" \".join(str(cell) for cell in row) + \"\\n\"\n",
        "    conn.close()\n",
        "    return text\n",
        "\n",
        "def find_unique_information(text, pattern, part_number_pattern):\n",
        "    information_matches = []\n",
        "    pattern_matches = re.finditer(pattern, text)\n",
        "    part_number_matches = re.finditer(part_number_pattern, text)\n",
        "\n",
        "    for part_number_match, pattern_match in zip(part_number_matches, pattern_matches):\n",
        "        part_number = part_number_match.group(1)\n",
        "        pattern_info = pattern_match.group(1)\n",
        "        information_matches.append((pattern_info, part_number))\n",
        "\n",
        "    return information_matches\n",
        "\n",
        "def main():\n",
        "    source_path = r\"C:\\Users\\Usuario\\Documents\\ENTREPRENEUR\\ARTIFICIAL INTELLIGENCE\\RENAULT\\DOCUMENTOS\\FFP940.txt\"  # Replace with your file path\n",
        "    file_extension = os.path.splitext(source_path)[1].lower()\n",
        "\n",
        "    if file_extension == \".pdf\":\n",
        "        text = extract_text_from_pdf(source_path)\n",
        "    elif file_extension == \".txt\":\n",
        "        text = extract_text_from_txt(source_path)\n",
        "    elif file_extension == \".xlsx\":\n",
        "        text = extract_text_from_excel(source_path)\n",
        "    elif file_extension == \".db\":\n",
        "        table_name = \"PART NUMBERS & CHARACTERISTICS\"  # Replace with the appropriate table name\n",
        "        text = extract_text_from_database(source_path, table_name)\n",
        "    else:\n",
        "        print(\"Unsupported file format\")\n",
        "        return\n",
        "\n",
        "    pattern = r'BE \\[20230\\]\\s*•\\s*([^\\]]+)'\n",
        "    part_number_pattern = r'(\\d{6}) - ([A-Za-z]+)'\n",
        "\n",
        "    information_matches = find_unique_information(text, pattern, part_number_pattern)\n",
        "\n",
        "    if information_matches:\n",
        "        print(\"Found Information:\")\n",
        "        for pattern_info, part_number in information_matches:\n",
        "            print(f\"Pattern: {pattern_info}, Part Number: {part_number}\")\n",
        "    else:\n",
        "        print(\"No matching information found.\")\n",
        "\n",
        "if __name__ == \"__main__\":\n",
        "    main()"
      ]
    }
  ]
}